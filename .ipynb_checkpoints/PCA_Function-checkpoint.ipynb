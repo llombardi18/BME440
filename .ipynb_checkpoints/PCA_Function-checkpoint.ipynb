{
 "cells": [
  {
   "cell_type": "code",
   "execution_count": null,
   "id": "101585ca",
   "metadata": {},
   "outputs": [],
   "source": [
    "# PCA function \n",
    "def principalCA(X_training_data):\n",
    "    import numpy as np\n",
    "    from matplotlib import pyplot as plt\n",
    "\n",
    "   # calculate the  covariance \n",
    "    C = np.cov(X_training_data.transpose())\n",
    "    plt.matshow(C)\n",
    "    print(C.shape)\n",
    "\n",
    "    # Calcualte the eigenvalue and eigenvector of covariance matrix \n",
    "    eigval, eigvec = np.linalg.eig(C)\n",
    "    print(\"Eigenvalue shape: \",eigval.shape)\n",
    "    print(\"Eigenvector shape: \",eigvec.shape) \n",
    "    return eigval, eigvec"
   ]
  }
 ],
 "metadata": {
  "kernelspec": {
   "display_name": "Python 3 (ipykernel)",
   "language": "python",
   "name": "python3"
  },
  "language_info": {
   "codemirror_mode": {
    "name": "ipython",
    "version": 3
   },
   "file_extension": ".py",
   "mimetype": "text/x-python",
   "name": "python",
   "nbconvert_exporter": "python",
   "pygments_lexer": "ipython3",
   "version": "3.9.12"
  }
 },
 "nbformat": 4,
 "nbformat_minor": 5
}
