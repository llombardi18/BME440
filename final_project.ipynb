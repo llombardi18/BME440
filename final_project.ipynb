{
 "cells": [
  {
   "cell_type": "code",
   "execution_count": 1,
   "metadata": {},
   "outputs": [
    {
     "name": "stdout",
     "output_type": "stream",
     "text": [
      "Hello World\n"
     ]
    }
   ],
   "source": [
    "print('Hello World')\n"
   ]
  },
  {
   "cell_type": "code",
   "execution_count": 2,
   "metadata": {},
   "outputs": [
    {
     "name": "stdout",
     "output_type": "stream",
     "text": [
      "World\n"
     ]
    }
   ],
   "source": [
    "print('World')"
   ]
  },
  {
   "cell_type": "code",
   "execution_count": 5,
   "metadata": {},
   "outputs": [
    {
     "name": "stdout",
     "output_type": "stream",
     "text": [
      "-0.104157199164273,-0.259246543121315,-0.200136486446206,-0.223659846162968,-0.355342496267319,-0.414616872010941,-0.152664393853455,-0.109741884344826,-0.177730991138879,-0.0233461420281158,0.000899771475154409,-0.139159956729128,-0.214079774707979,-0.0898423833610291,-0.116373180651494,-0.0941541214189644,-0.0316956609041659,-0.0154244168243983,-0.0842135940644226,-0.17321950199402,-0.179499093907204,-0.0483459715668431,-0.0720181088071678,-0.128797735258623,-0.0532988143951084,-0.0607631071702386,-0.209124490801824,-0.195746837285358,-0.215273795942448,-0.00968947433875877,-0.143305882779263,-0.304499470179002,-0.234380615672297,-0.269981333966567,-0.298936995370762,-0.292399837282645,-0.285184662432554,-0.157040041189552,-0.0302568397093679,-0.0580462455353132,-0.0133222274490216,-0.0982058181172443,-0.0348357052941637,-0.0802052530817831,-0.0703469075825209,-0.0719809070938748,-0.0524038289629759,-0.0931191657628213,-0.0970976574823658,-0.125014201459042,-0.118449935112187,-0.0785229365212391,-0.0749704153700016,0.0297886914245694,0.100913868241059,0.0155193789542863,-0.0066503909746678,-0.0779970175414455,0.156180957340348,0.48302161234362,0.160177986485527,0.130669491247979,0.318149467523852,0.193820347569869,0\n",
      "\n"
     ]
    }
   ],
   "source": [
    "with open ('DatasetEEGProject.txt') as file:\n",
    "    lines = file.readline()\n",
    "print(lines)"
   ]
  },
  {
   "cell_type": "code",
   "execution_count": 12,
   "metadata": {},
   "outputs": [
    {
     "name": "stdout",
     "output_type": "stream",
     "text": [
      "(100, 65)\n",
      "(30, 64)\n"
     ]
    }
   ],
   "source": [
    "from numpy import loadtxt\n",
    "dataset = loadtxt('DatasetEEGProject.txt', dtype=float, delimiter=\",\", unpack=False)\n",
    "print(dataset.shape)\n",
    "\n",
    "\n",
    "from sklearn.model_selection import train_test_split\n",
    "X_training_data,X_test_data,Y_training_data,Y_test_data = train_test_split(dataset[:,:64],dataset[:,64],test_size= 0.3,random_state=0)\n",
    "print(X_test_data.shape)"
   ]
  },
  {
   "cell_type": "code",
   "execution_count": 17,
   "metadata": {},
   "outputs": [
    {
     "name": "stdout",
     "output_type": "stream",
     "text": [
      "Hello\n"
     ]
    }
   ],
   "source": [
    "# PCA for Murpy\n",
    "from PCA_Murphy import test\n",
    "test()"
   ]
  },
  {
   "cell_type": "code",
   "execution_count": 18,
   "metadata": {},
   "outputs": [
    {
     "name": "stdout",
     "output_type": "stream",
     "text": [
      "Hello\n"
     ]
    }
   ],
   "source": [
    "from Classifier_Lorenzo import test\n",
    "test()"
   ]
  },
  {
   "cell_type": "code",
   "execution_count": null,
   "metadata": {},
   "outputs": [],
   "source": []
  }
 ],
 "metadata": {
  "kernelspec": {
   "display_name": "Python 3 (ipykernel)",
   "language": "python",
   "name": "python3"
  },
  "language_info": {
   "codemirror_mode": {
    "name": "ipython",
    "version": 3
   },
   "file_extension": ".py",
   "mimetype": "text/x-python",
   "name": "python",
   "nbconvert_exporter": "python",
   "pygments_lexer": "ipython3",
   "version": "3.9.12"
  },
  "vscode": {
   "interpreter": {
    "hash": "eaf12abed3b1d533f229e9d06e53f50c66a810292d3b70a5bf8edbd60e5a3e6f"
   }
  }
 },
 "nbformat": 4,
 "nbformat_minor": 2
}
